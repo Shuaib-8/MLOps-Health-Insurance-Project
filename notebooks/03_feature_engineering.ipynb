{
 "cells": [
  {
   "cell_type": "code",
   "execution_count": 1,
   "id": "f2246ebc",
   "metadata": {},
   "outputs": [],
   "source": [
    "# EDA libraries\n",
    "import pandas as pd \n",
    "\n",
    "# Feature engineering\n",
    "from sklearn.preprocessing import LabelEncoder, OneHotEncoder\n",
    "\n",
    "\n",
    "# Mounting the data dir \n",
    "from pathlib import Path\n",
    "data_dir_interim = Path('.').resolve().parent / \"data\" / \"interim\""
   ]
  },
  {
   "cell_type": "code",
   "execution_count": 2,
   "id": "5b22f7ae",
   "metadata": {},
   "outputs": [
    {
     "name": "stdout",
     "output_type": "stream",
     "text": [
      "Shape of the data: (1337, 7)\n",
      "Preview of the data:\n",
      "    age     sex     bmi  children smoker     region      charges\n",
      "0   19  female  27.900         0    yes  southwest  16884.92400\n",
      "1   18    male  33.770         1     no  southeast   1725.55230\n",
      "2   28    male  33.000         3     no  southeast   4449.46200\n",
      "3   33    male  22.705         0     no  northwest  21984.47061\n",
      "4   32    male  28.880         0     no  northwest   3866.85520\n"
     ]
    }
   ],
   "source": [
    "# Load interim data \n",
    "df = pd.read_csv(data_dir_interim / \"cleaned_health_insurance_us_v1.csv\")\n",
    "print(f'Shape of the data: {df.shape}')\n",
    "print(f'Preview of the data:\\n {df.head()}')"
   ]
  },
  {
   "cell_type": "markdown",
   "id": "e4fc754b",
   "metadata": {},
   "source": [
    "Not much feature engineering needs to be done. Only need to encode the categorical features so that they can be used in the model."
   ]
  },
  {
   "cell_type": "code",
   "execution_count": 3,
   "id": "ee958e05",
   "metadata": {},
   "outputs": [
    {
     "name": "stdout",
     "output_type": "stream",
     "text": [
      "Categorical Variables Analysis:\n",
      "========================================\n",
      "\n",
      "SEX:\n",
      "  Unique values: ['female' 'male']\n",
      "  Value counts:\n",
      "sex\n",
      "male      675\n",
      "female    662\n",
      "Name: count, dtype: int64\n",
      "  Number of unique values: 2\n",
      "\n",
      "SMOKER:\n",
      "  Unique values: ['yes' 'no']\n",
      "  Value counts:\n",
      "smoker\n",
      "no     1063\n",
      "yes     274\n",
      "Name: count, dtype: int64\n",
      "  Number of unique values: 2\n",
      "\n",
      "REGION:\n",
      "  Unique values: ['southwest' 'southeast' 'northwest' 'northeast']\n",
      "  Value counts:\n",
      "region\n",
      "southeast    364\n",
      "southwest    325\n",
      "northwest    324\n",
      "northeast    324\n",
      "Name: count, dtype: int64\n",
      "  Number of unique values: 4\n"
     ]
    }
   ],
   "source": [
    "# Examine categorical variables\n",
    "categorical_cols = ['sex', 'smoker', 'region']\n",
    "\n",
    "print(\"Categorical Variables Analysis:\")\n",
    "print(\"=\" * 40)\n",
    "for col in categorical_cols:\n",
    "    print(f\"\\n{col.upper()}:\")\n",
    "    print(f\"  Unique values: {df[col].unique()}\")\n",
    "    print(f\"  Value counts:\\n{df[col].value_counts()}\")\n",
    "    print(f\"  Number of unique values: {df[col].nunique()}\")"
   ]
  },
  {
   "cell_type": "markdown",
   "id": "cbf67508",
   "metadata": {},
   "source": [
    "## Feature Engineering Approaches\n",
    "\n",
    "A key approach for encoding categorical variables:\n",
    "- Binary categorical - Use Label Encoding (since they are binary)\n",
    "- Multi-class categorical - Use One-Hot Encoding (to avoid ordinal relationships) or label encoding (represent categories as integers all in one column)"
   ]
  },
  {
   "cell_type": "markdown",
   "id": "dd3152c8",
   "metadata": {},
   "source": [
    "### One-Hot Encoding\n",
    "- Transform `region` feature using one-hot encoding for categorical variables"
   ]
  },
  {
   "cell_type": "code",
   "execution_count": 4,
   "id": "b8cda260",
   "metadata": {},
   "outputs": [
    {
     "name": "stdout",
     "output_type": "stream",
     "text": [
      "Direct Transformation\n",
      "========================================\n",
      "Encoded data shape: (1337, 9)\n",
      "\n",
      "Encoded data preview:\n",
      "   age     bmi  children      charges  sex_encoded  smoker_encoded  \\\n",
      "0   19  27.900         0  16884.92400            0               1   \n",
      "1   18  33.770         1   1725.55230            1               0   \n",
      "2   28  33.000         3   4449.46200            1               0   \n",
      "3   33  22.705         0  21984.47061            1               0   \n",
      "4   32  28.880         0   3866.85520            1               0   \n",
      "\n",
      "   region_northwest  region_southeast  region_southwest  \n",
      "0               0.0               0.0               1.0  \n",
      "1               0.0               1.0               0.0  \n",
      "2               0.0               1.0               0.0  \n",
      "3               1.0               0.0               0.0  \n",
      "4               1.0               0.0               0.0  \n",
      "\n",
      "Encoding mappings:\n",
      "Sex mapping: {'female': np.int64(0), 'male': np.int64(1)}\n",
      "Smoker mapping: {'no': np.int64(0), 'yes': np.int64(1)}\n",
      "Region columns created: ['region_northwest', 'region_southeast', 'region_southwest']\n"
     ]
    }
   ],
   "source": [
    "# Create a copy of the original data\n",
    "df_encoded_v1 = df.copy()\n",
    "\n",
    "print(\"Direct Transformation\")\n",
    "print(\"=\" * 40)\n",
    "\n",
    "# For binary variables (sex, smoker) - use label encoding (0/1)\n",
    "label_encoder_sex = LabelEncoder()\n",
    "label_encoder_smoker = LabelEncoder()\n",
    "\n",
    "df_encoded_v1['sex_encoded'] = label_encoder_sex.fit_transform(df_encoded_v1['sex'])\n",
    "df_encoded_v1['smoker_encoded'] = label_encoder_smoker.fit_transform(df_encoded_v1['smoker'])\n",
    "\n",
    "# For region (4 categories) - use one-hot encoding to avoid ordinal assumption\n",
    "onehot_encoder = OneHotEncoder(sparse_output=False, drop='first')  # drop='first' to avoid dummy variable trap\n",
    "region_dummies_array = onehot_encoder.fit_transform(df_encoded_v1[['region']])\n",
    "\n",
    "# Convert to DataFrame with proper column names\n",
    "region_dummy_columns = onehot_encoder.get_feature_names_out(['region'])\n",
    "region_dummies_df = pd.DataFrame(region_dummies_array, columns=region_dummy_columns, index=df_encoded_v1.index)\n",
    "\n",
    "# Concatenate with main dataframe\n",
    "df_encoded_v1 = pd.concat([df_encoded_v1, region_dummies_df], axis=1)\n",
    "\n",
    "# Drop original categorical columns\n",
    "df_encoded_v1 = df_encoded_v1.drop(['sex', 'smoker', 'region'], axis=1)\n",
    "\n",
    "print(\"Encoded data shape:\", df_encoded_v1.shape)\n",
    "print(\"\\nEncoded data preview:\")\n",
    "print(df_encoded_v1.head())\n",
    "\n",
    "print(\"\\nEncoding mappings:\")\n",
    "print(f\"Sex mapping: {dict(zip(label_encoder_sex.classes_, label_encoder_sex.transform(label_encoder_sex.classes_)))}\")\n",
    "print(f\"Smoker mapping: {dict(zip(label_encoder_smoker.classes_, label_encoder_smoker.transform(label_encoder_smoker.classes_)))}\")\n",
    "print(f\"Region columns created: {list(region_dummy_columns)}\")"
   ]
  },
  {
   "cell_type": "markdown",
   "id": "ff119176",
   "metadata": {},
   "source": [
    "### Label Encoding\n",
    "- Transform `region` feature using label encoding for categorical variables"
   ]
  },
  {
   "cell_type": "code",
   "execution_count": 5,
   "id": "1df8b0a9",
   "metadata": {},
   "outputs": [
    {
     "name": "stdout",
     "output_type": "stream",
     "text": [
      "Label Encoding Approach\n",
      "========================================\n",
      "Encoded data shape: (1337, 7)\n",
      "\n",
      "Encoded data preview:\n",
      "   age     bmi  children      charges  sex_encoded  smoker_encoded  \\\n",
      "0   19  27.900         0  16884.92400            0               1   \n",
      "1   18  33.770         1   1725.55230            1               0   \n",
      "2   28  33.000         3   4449.46200            1               0   \n",
      "3   33  22.705         0  21984.47061            1               0   \n",
      "4   32  28.880         0   3866.85520            1               0   \n",
      "\n",
      "   region_encoded  \n",
      "0               3  \n",
      "1               2  \n",
      "2               2  \n",
      "3               1  \n",
      "4               1  \n",
      "\n",
      "Encoding mappings:\n",
      "Sex mapping: {'female': np.int64(0), 'male': np.int64(1)}\n",
      "Smoker mapping: {'no': np.int64(0), 'yes': np.int64(1)}\n",
      "Region mapping: {'northeast': np.int64(0), 'northwest': np.int64(1), 'southeast': np.int64(2), 'southwest': np.int64(3)}\n",
      "Region reverse mapping: {np.int64(0): 'northeast', np.int64(1): 'northwest', np.int64(2): 'southeast', np.int64(3): 'southwest'}\n",
      "\n",
      "Comparison:\n",
      "One-Hot Encoding: Creates 3 columns for region\n",
      "Label Encoding: Creates 1 column for region (more compact)\n",
      "Label Encoding avoids multicollinearity but assumes ordinal relationship\n"
     ]
    }
   ],
   "source": [
    "# Create a copy of the original data\n",
    "df_encoded_v2 = df.copy()\n",
    "\n",
    "print(\"Label Encoding Approach\")\n",
    "print(\"=\" * 40)\n",
    "\n",
    "# For binary variables (sex, smoker) - use label encoding (0/1)\n",
    "label_encoder_sex = LabelEncoder()\n",
    "label_encoder_smoker = LabelEncoder()\n",
    "\n",
    "df_encoded_v2['sex_encoded'] = label_encoder_sex.fit_transform(df_encoded_v2['sex'])\n",
    "df_encoded_v2['smoker_encoded'] = label_encoder_smoker.fit_transform(df_encoded_v2['smoker'])\n",
    "\n",
    "# For region (4 categories) - use label encoding to represent as integers\n",
    "label_encoder_region = LabelEncoder()\n",
    "df_encoded_v2['region_encoded'] = label_encoder_region.fit_transform(df_encoded_v2['region'])\n",
    "\n",
    "# Drop original categorical columns\n",
    "df_encoded_v2 = df_encoded_v2.drop(['sex', 'smoker', 'region'], axis=1)\n",
    "\n",
    "print(\"Encoded data shape:\", df_encoded_v2.shape)\n",
    "print(\"\\nEncoded data preview:\")\n",
    "print(df_encoded_v2.head())\n",
    "\n",
    "print(\"\\nEncoding mappings:\")\n",
    "print(f\"Sex mapping: {dict(zip(label_encoder_sex.classes_, label_encoder_sex.transform(label_encoder_sex.classes_)))}\")\n",
    "print(f\"Smoker mapping: {dict(zip(label_encoder_smoker.classes_, label_encoder_smoker.transform(label_encoder_smoker.classes_)))}\")\n",
    "print(f\"Region mapping: {dict(zip(label_encoder_region.classes_, label_encoder_region.transform(label_encoder_region.classes_)))}\")\n",
    "\n",
    "# Show reverse mapping for region (useful for interpretation)\n",
    "region_reverse_mapping = {v: k for k, v in dict(zip(label_encoder_region.classes_, label_encoder_region.transform(label_encoder_region.classes_))).items()}\n",
    "print(f\"Region reverse mapping: {region_reverse_mapping}\")\n",
    "\n",
    "print(f\"\\nComparison:\")\n",
    "print(f\"One-Hot Encoding: Creates {len(region_dummy_columns)} columns for region\")\n",
    "print(f\"Label Encoding: Creates 1 column for region (more compact)\")\n",
    "print(f\"Label Encoding avoids multicollinearity but assumes ordinal relationship\")"
   ]
  }
 ],
 "metadata": {
  "kernelspec": {
   "display_name": "mlops-health-insurance-proj",
   "language": "python",
   "name": "python3"
  },
  "language_info": {
   "codemirror_mode": {
    "name": "ipython",
    "version": 3
   },
   "file_extension": ".py",
   "mimetype": "text/x-python",
   "name": "python",
   "nbconvert_exporter": "python",
   "pygments_lexer": "ipython3",
   "version": "3.12.11"
  }
 },
 "nbformat": 4,
 "nbformat_minor": 5
}
