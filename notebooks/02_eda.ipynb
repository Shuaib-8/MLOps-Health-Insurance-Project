{
 "cells": [
  {
   "cell_type": "code",
   "execution_count": 11,
   "id": "284c1b06",
   "metadata": {},
   "outputs": [],
   "source": [
    "# EDA libraries\n",
    "import pandas as pd \n",
    "import matplotlib.pyplot as plt\n",
    "import seaborn as sns\n",
    "from ydata_profiling import ProfileReport \n",
    "\n",
    "# Mounting the data dir \n",
    "from pathlib import Path\n",
    "data_dir_interim = Path('.').resolve().parent / \"data\" / \"interim\""
   ]
  },
  {
   "cell_type": "code",
   "execution_count": 12,
   "id": "40ccbe4a",
   "metadata": {},
   "outputs": [
    {
     "name": "stdout",
     "output_type": "stream",
     "text": [
      "Shape of the data: (1337, 7)\n",
      "Preview of the data:\n",
      "    age     sex     bmi  children smoker     region      charges\n",
      "0   19  female  27.900         0    yes  southwest  16884.92400\n",
      "1   18    male  33.770         1     no  southeast   1725.55230\n",
      "2   28    male  33.000         3     no  southeast   4449.46200\n",
      "3   33    male  22.705         0     no  northwest  21984.47061\n",
      "4   32    male  28.880         0     no  northwest   3866.85520\n"
     ]
    }
   ],
   "source": [
    "# Load interim data \n",
    "df = pd.read_csv(data_dir_interim / \"cleaned_health_insurance_us_v1.csv\")\n",
    "print(f'Shape of the data: {df.shape}')\n",
    "print(f'Preview of the data:\\n {df.head()}')"
   ]
  },
  {
   "cell_type": "code",
   "execution_count": null,
   "id": "a771f774",
   "metadata": {},
   "outputs": [],
   "source": []
  }
 ],
 "metadata": {
  "kernelspec": {
   "display_name": "mlops-health-insurance-proj",
   "language": "python",
   "name": "python3"
  },
  "language_info": {
   "codemirror_mode": {
    "name": "ipython",
    "version": 3
   },
   "file_extension": ".py",
   "mimetype": "text/x-python",
   "name": "python",
   "nbconvert_exporter": "python",
   "pygments_lexer": "ipython3",
   "version": "3.12.11"
  }
 },
 "nbformat": 4,
 "nbformat_minor": 5
}
